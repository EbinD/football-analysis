{
 "cells": [
  {
   "cell_type": "code",
   "execution_count": 1,
   "id": "8d80a27a",
   "metadata": {},
   "outputs": [
    {
     "data": {
      "text/plain": [
       "((570, 48),\n",
       " Index(['full_name', 'age', 'birthday', 'birthday_gmt', 'league', 'season',\n",
       "        'position', 'current_club', 'minutes_played_overall',\n",
       "        'minutes_played_home', 'minutes_played_away', 'nationality',\n",
       "        'appearances_overall', 'appearances_home', 'appearances_away',\n",
       "        'goals_overall', 'goals_home', 'goals_away', 'assists_overall',\n",
       "        'assists_home', 'assists_away', 'penalty_goals', 'penalty_misses',\n",
       "        'clean_sheets_overall', 'clean_sheets_home', 'clean_sheets_away',\n",
       "        'conceded_overall', 'conceded_home', 'conceded_away',\n",
       "        'yellow_cards_overall', 'red_cards_overall',\n",
       "        'goals_involved_per_90_overall', 'assists_per_90_overall',\n",
       "        'goals_per_90_overall', 'goals_per_90_home', 'goals_per_90_away',\n",
       "        'min_per_goal_overall', 'conceded_per_90_overall',\n",
       "        'min_per_conceded_overall', 'min_per_match', 'min_per_card_overall',\n",
       "        'min_per_assist_overall', 'cards_per_90_overall',\n",
       "        'rank_in_league_top_attackers', 'rank_in_league_top_midfielders',\n",
       "        'rank_in_league_top_defenders', 'rank_in_club_top_scorer',\n",
       "        'birth_year'],\n",
       "       dtype='object'))"
      ]
     },
     "execution_count": 1,
     "metadata": {},
     "output_type": "execute_result"
    }
   ],
   "source": [
    "import pandas as pd\n",
    "\n",
    "# Load clean dataset\n",
    "df = pd.read_csv(\"../player_clean.csv\")\n",
    "\n",
    "df.shape, df.columns"
   ]
  },
  {
   "cell_type": "code",
   "execution_count": 2,
   "id": "a2e36d9a",
   "metadata": {},
   "outputs": [
    {
     "data": {
      "text/html": [
       "<div>\n",
       "<style scoped>\n",
       "    .dataframe tbody tr th:only-of-type {\n",
       "        vertical-align: middle;\n",
       "    }\n",
       "\n",
       "    .dataframe tbody tr th {\n",
       "        vertical-align: top;\n",
       "    }\n",
       "\n",
       "    .dataframe thead th {\n",
       "        text-align: right;\n",
       "    }\n",
       "</style>\n",
       "<table border=\"1\" class=\"dataframe\">\n",
       "  <thead>\n",
       "    <tr style=\"text-align: right;\">\n",
       "      <th></th>\n",
       "      <th>age</th>\n",
       "      <th>minutes_played_overall</th>\n",
       "      <th>appearances_overall</th>\n",
       "      <th>assists_overall</th>\n",
       "      <th>position</th>\n",
       "    </tr>\n",
       "  </thead>\n",
       "  <tbody>\n",
       "    <tr>\n",
       "      <th>0</th>\n",
       "      <td>32</td>\n",
       "      <td>1589</td>\n",
       "      <td>20</td>\n",
       "      <td>1</td>\n",
       "      <td>Defender</td>\n",
       "    </tr>\n",
       "    <tr>\n",
       "      <th>1</th>\n",
       "      <td>35</td>\n",
       "      <td>1217</td>\n",
       "      <td>16</td>\n",
       "      <td>1</td>\n",
       "      <td>Midfielder</td>\n",
       "    </tr>\n",
       "    <tr>\n",
       "      <th>2</th>\n",
       "      <td>32</td>\n",
       "      <td>2327</td>\n",
       "      <td>29</td>\n",
       "      <td>1</td>\n",
       "      <td>Midfielder</td>\n",
       "    </tr>\n",
       "    <tr>\n",
       "      <th>3</th>\n",
       "      <td>31</td>\n",
       "      <td>1327</td>\n",
       "      <td>28</td>\n",
       "      <td>6</td>\n",
       "      <td>Midfielder</td>\n",
       "    </tr>\n",
       "    <tr>\n",
       "      <th>4</th>\n",
       "      <td>22</td>\n",
       "      <td>69</td>\n",
       "      <td>2</td>\n",
       "      <td>0</td>\n",
       "      <td>Forward</td>\n",
       "    </tr>\n",
       "  </tbody>\n",
       "</table>\n",
       "</div>"
      ],
      "text/plain": [
       "   age  minutes_played_overall  appearances_overall  assists_overall  \\\n",
       "0   32                    1589                   20                1   \n",
       "1   35                    1217                   16                1   \n",
       "2   32                    2327                   29                1   \n",
       "3   31                    1327                   28                6   \n",
       "4   22                      69                    2                0   \n",
       "\n",
       "     position  \n",
       "0    Defender  \n",
       "1  Midfielder  \n",
       "2  Midfielder  \n",
       "3  Midfielder  \n",
       "4     Forward  "
      ]
     },
     "execution_count": 2,
     "metadata": {},
     "output_type": "execute_result"
    }
   ],
   "source": [
    "X = df[[\"age\", \"minutes_played_overall\",\n",
    "        \"appearances_overall\", \"assists_overall\", \"position\"]]\n",
    "y = df[\"goals_overall\"]\n",
    "\n",
    "X.head()"
   ]
  },
  {
   "cell_type": "code",
   "execution_count": 3,
   "id": "7a768084",
   "metadata": {},
   "outputs": [
    {
     "data": {
      "text/html": [
       "<div>\n",
       "<style scoped>\n",
       "    .dataframe tbody tr th:only-of-type {\n",
       "        vertical-align: middle;\n",
       "    }\n",
       "\n",
       "    .dataframe tbody tr th {\n",
       "        vertical-align: top;\n",
       "    }\n",
       "\n",
       "    .dataframe thead th {\n",
       "        text-align: right;\n",
       "    }\n",
       "</style>\n",
       "<table border=\"1\" class=\"dataframe\">\n",
       "  <thead>\n",
       "    <tr style=\"text-align: right;\">\n",
       "      <th></th>\n",
       "      <th>age</th>\n",
       "      <th>minutes_played_overall</th>\n",
       "      <th>appearances_overall</th>\n",
       "      <th>assists_overall</th>\n",
       "      <th>position_Forward</th>\n",
       "      <th>position_Goalkeeper</th>\n",
       "      <th>position_Midfielder</th>\n",
       "    </tr>\n",
       "  </thead>\n",
       "  <tbody>\n",
       "    <tr>\n",
       "      <th>0</th>\n",
       "      <td>32</td>\n",
       "      <td>1589</td>\n",
       "      <td>20</td>\n",
       "      <td>1</td>\n",
       "      <td>False</td>\n",
       "      <td>False</td>\n",
       "      <td>False</td>\n",
       "    </tr>\n",
       "    <tr>\n",
       "      <th>1</th>\n",
       "      <td>35</td>\n",
       "      <td>1217</td>\n",
       "      <td>16</td>\n",
       "      <td>1</td>\n",
       "      <td>False</td>\n",
       "      <td>False</td>\n",
       "      <td>True</td>\n",
       "    </tr>\n",
       "    <tr>\n",
       "      <th>2</th>\n",
       "      <td>32</td>\n",
       "      <td>2327</td>\n",
       "      <td>29</td>\n",
       "      <td>1</td>\n",
       "      <td>False</td>\n",
       "      <td>False</td>\n",
       "      <td>True</td>\n",
       "    </tr>\n",
       "    <tr>\n",
       "      <th>3</th>\n",
       "      <td>31</td>\n",
       "      <td>1327</td>\n",
       "      <td>28</td>\n",
       "      <td>6</td>\n",
       "      <td>False</td>\n",
       "      <td>False</td>\n",
       "      <td>True</td>\n",
       "    </tr>\n",
       "    <tr>\n",
       "      <th>4</th>\n",
       "      <td>22</td>\n",
       "      <td>69</td>\n",
       "      <td>2</td>\n",
       "      <td>0</td>\n",
       "      <td>True</td>\n",
       "      <td>False</td>\n",
       "      <td>False</td>\n",
       "    </tr>\n",
       "  </tbody>\n",
       "</table>\n",
       "</div>"
      ],
      "text/plain": [
       "   age  minutes_played_overall  appearances_overall  assists_overall  \\\n",
       "0   32                    1589                   20                1   \n",
       "1   35                    1217                   16                1   \n",
       "2   32                    2327                   29                1   \n",
       "3   31                    1327                   28                6   \n",
       "4   22                      69                    2                0   \n",
       "\n",
       "   position_Forward  position_Goalkeeper  position_Midfielder  \n",
       "0             False                False                False  \n",
       "1             False                False                 True  \n",
       "2             False                False                 True  \n",
       "3             False                False                 True  \n",
       "4              True                False                False  "
      ]
     },
     "execution_count": 3,
     "metadata": {},
     "output_type": "execute_result"
    }
   ],
   "source": [
    "X_encoded = pd.get_dummies(X, columns=[\"position\"], drop_first=True)\n",
    "X_encoded.head()"
   ]
  },
  {
   "cell_type": "code",
   "execution_count": 4,
   "id": "aae630d1",
   "metadata": {},
   "outputs": [
    {
     "data": {
      "text/plain": [
       "((456, 7), (114, 7))"
      ]
     },
     "execution_count": 4,
     "metadata": {},
     "output_type": "execute_result"
    }
   ],
   "source": [
    "from sklearn.model_selection import train_test_split\n",
    "\n",
    "X_train, X_test, y_train, y_test = train_test_split(\n",
    "    X_encoded, y, test_size=0.2, random_state=42\n",
    ")\n",
    "\n",
    "X_train.shape, X_test.shape"
   ]
  },
  {
   "cell_type": "code",
   "execution_count": 5,
   "id": "7ad1e68a",
   "metadata": {},
   "outputs": [
    {
     "name": "stdout",
     "output_type": "stream",
     "text": [
      "1.7.1\n"
     ]
    }
   ],
   "source": [
    "import sklearn\n",
    "print(sklearn.__version__)"
   ]
  },
  {
   "cell_type": "code",
   "execution_count": 6,
   "id": "7f0c5130",
   "metadata": {},
   "outputs": [
    {
     "data": {
      "text/plain": [
       "(1.6107876800630436, 2.161198248940162, 0.5510249318461435)"
      ]
     },
     "execution_count": 6,
     "metadata": {},
     "output_type": "execute_result"
    }
   ],
   "source": [
    "from sklearn.linear_model import LinearRegression\n",
    "from sklearn.metrics import mean_absolute_error, mean_squared_error, r2_score\n",
    "\n",
    "# Step 1: Initialize and train the model\n",
    "model = LinearRegression()\n",
    "model.fit(X_train, y_train)\n",
    "\n",
    "# Step 2: Predict on test set\n",
    "y_pred = model.predict(X_test)\n",
    "\n",
    "# Step 3: Evaluate\n",
    "mae = mean_absolute_error(y_test, y_pred)\n",
    "mse = mean_squared_error(y_test, y_pred)\n",
    "rmse = mse ** 0.5\n",
    "r2 = r2_score(y_test, y_pred)\n",
    "\n",
    "mae, rmse, r2"
   ]
  },
  {
   "cell_type": "code",
   "execution_count": 7,
   "id": "5bd7da18",
   "metadata": {},
   "outputs": [
    {
     "data": {
      "text/html": [
       "<div>\n",
       "<style scoped>\n",
       "    .dataframe tbody tr th:only-of-type {\n",
       "        vertical-align: middle;\n",
       "    }\n",
       "\n",
       "    .dataframe tbody tr th {\n",
       "        vertical-align: top;\n",
       "    }\n",
       "\n",
       "    .dataframe thead th {\n",
       "        text-align: right;\n",
       "    }\n",
       "</style>\n",
       "<table border=\"1\" class=\"dataframe\">\n",
       "  <thead>\n",
       "    <tr style=\"text-align: right;\">\n",
       "      <th></th>\n",
       "      <th>goals_per_appearance</th>\n",
       "      <th>assists_per_appearance</th>\n",
       "      <th>minutes_per_appearance</th>\n",
       "      <th>age_squared</th>\n",
       "      <th>is_forward</th>\n",
       "    </tr>\n",
       "  </thead>\n",
       "  <tbody>\n",
       "    <tr>\n",
       "      <th>0</th>\n",
       "      <td>0.000000</td>\n",
       "      <td>0.050000</td>\n",
       "      <td>79.450000</td>\n",
       "      <td>1024</td>\n",
       "      <td>0</td>\n",
       "    </tr>\n",
       "    <tr>\n",
       "      <th>1</th>\n",
       "      <td>0.062500</td>\n",
       "      <td>0.062500</td>\n",
       "      <td>76.062500</td>\n",
       "      <td>1225</td>\n",
       "      <td>0</td>\n",
       "    </tr>\n",
       "    <tr>\n",
       "      <th>2</th>\n",
       "      <td>0.103448</td>\n",
       "      <td>0.034483</td>\n",
       "      <td>80.241379</td>\n",
       "      <td>1024</td>\n",
       "      <td>0</td>\n",
       "    </tr>\n",
       "    <tr>\n",
       "      <th>3</th>\n",
       "      <td>0.142857</td>\n",
       "      <td>0.214286</td>\n",
       "      <td>47.392857</td>\n",
       "      <td>961</td>\n",
       "      <td>0</td>\n",
       "    </tr>\n",
       "    <tr>\n",
       "      <th>4</th>\n",
       "      <td>0.000000</td>\n",
       "      <td>0.000000</td>\n",
       "      <td>34.500000</td>\n",
       "      <td>484</td>\n",
       "      <td>1</td>\n",
       "    </tr>\n",
       "  </tbody>\n",
       "</table>\n",
       "</div>"
      ],
      "text/plain": [
       "   goals_per_appearance  assists_per_appearance  minutes_per_appearance  \\\n",
       "0              0.000000                0.050000               79.450000   \n",
       "1              0.062500                0.062500               76.062500   \n",
       "2              0.103448                0.034483               80.241379   \n",
       "3              0.142857                0.214286               47.392857   \n",
       "4              0.000000                0.000000               34.500000   \n",
       "\n",
       "   age_squared  is_forward  \n",
       "0         1024           0  \n",
       "1         1225           0  \n",
       "2         1024           0  \n",
       "3          961           0  \n",
       "4          484           1  "
      ]
     },
     "execution_count": 7,
     "metadata": {},
     "output_type": "execute_result"
    }
   ],
   "source": [
    "df[\"goals_per_appearance\"] = df[\"goals_overall\"] / df[\"appearances_overall\"]\n",
    "df[\"assists_per_appearance\"] = df[\"assists_overall\"] / df[\"appearances_overall\"]\n",
    "df[\"minutes_per_appearance\"] = df[\"minutes_played_overall\"] / \\\n",
    "    df[\"appearances_overall\"]\n",
    "df[\"age_squared\"] = df[\"age\"] ** 2\n",
    "df[\"is_forward\"] = df[\"position\"].apply(lambda x: 1 if \"Forward\" in x else 0)\n",
    "\n",
    "# Replace infinities and NaNs from division by 0\n",
    "df.replace([float('inf'), -float('inf')], pd.NA, inplace=True)\n",
    "df.dropna(inplace=True)\n",
    "\n",
    "df[[\"goals_per_appearance\", \"assists_per_appearance\",\n",
    "    \"minutes_per_appearance\", \"age_squared\", \"is_forward\"]].head()"
   ]
  },
  {
   "cell_type": "code",
   "execution_count": 8,
   "id": "e9f8594b",
   "metadata": {},
   "outputs": [
    {
     "data": {
      "text/plain": [
       "(0.862007393592012, 1.3085980890941729, 0.8647719595556196)"
      ]
     },
     "execution_count": 8,
     "metadata": {},
     "output_type": "execute_result"
    }
   ],
   "source": [
    "from sklearn.metrics import mean_absolute_error, mean_squared_error, r2_score\n",
    "from sklearn.linear_model import LinearRegression\n",
    "from sklearn.model_selection import train_test_split\n",
    "features = [\n",
    "    \"age\",\n",
    "    \"minutes_played_overall\",\n",
    "    \"appearances_overall\",\n",
    "    \"assists_overall\",\n",
    "    \"position\",\n",
    "    \"goals_per_appearance\",\n",
    "    \"assists_per_appearance\",\n",
    "    \"minutes_per_appearance\",\n",
    "    \"age_squared\",\n",
    "    \"is_forward\"\n",
    "]\n",
    "\n",
    "X = df[features]\n",
    "y = df[\"goals_overall\"]\n",
    "\n",
    "# Encode categorical\n",
    "X_encoded = pd.get_dummies(X, columns=[\"position\"], drop_first=True)\n",
    "\n",
    "# Train/test split\n",
    "X_train, X_test, y_train, y_test = train_test_split(\n",
    "    X_encoded, y, test_size=0.2, random_state=42\n",
    ")\n",
    "\n",
    "# Train Linear Regression\n",
    "model = LinearRegression()\n",
    "model.fit(X_train, y_train)\n",
    "\n",
    "# Predict + Evaluate\n",
    "y_pred = model.predict(X_test)\n",
    "\n",
    "mae = mean_absolute_error(y_test, y_pred)\n",
    "mse = mean_squared_error(y_test, y_pred)\n",
    "rmse = mse ** 0.5\n",
    "r2 = r2_score(y_test, y_pred)\n",
    "\n",
    "mae, rmse, r2"
   ]
  },
  {
   "cell_type": "code",
   "execution_count": 11,
   "id": "39c2cbc8",
   "metadata": {},
   "outputs": [
    {
     "data": {
      "text/plain": [
       "(0.141980198019802, np.float64(0.4049397950606515), 0.9870510334577095)"
      ]
     },
     "execution_count": 11,
     "metadata": {},
     "output_type": "execute_result"
    }
   ],
   "source": [
    "import numpy as np\n",
    "from sklearn.ensemble import RandomForestRegressor\n",
    "\n",
    "# Initialize model\n",
    "rf_model = RandomForestRegressor(n_estimators=100, random_state=42)\n",
    "rf_model.fit(X_train, y_train)\n",
    "\n",
    "# Predict and evaluate\n",
    "y_pred_rf = rf_model.predict(X_test)\n",
    "\n",
    "mae_rf = mean_absolute_error(y_test, y_pred_rf)\n",
    "mse_rf = mean_squared_error(y_test, y_pred_rf)\n",
    "rmse_rf = np.sqrt(mse_rf)\n",
    "\n",
    "r2_rf = r2_score(y_test, y_pred_rf)\n",
    "\n",
    "mae_rf, rmse_rf, r2_rf"
   ]
  },
  {
   "cell_type": "code",
   "execution_count": null,
   "id": "520a9ede",
   "metadata": {},
   "outputs": [
    {
     "data": {
      "image/png": "[encoded data removed]",
      "text/plain": [
       "<Figure size 1000x600 with 1 Axes>"
      ]
     },
     "metadata": {},
     "output_type": "display_data"
    }
   ],
   "source": [
    "import matplotlib.pyplot as plt\n",
    "\n",
    "importances = rf_model.feature_importances_\n",
    "feature_names = X_encoded.columns\n",
    "\n",
    "# Sort and plot\n",
    "indices = importances.argsort()[::-1]\n",
    "\n",
    "plt.figure(figsize=(10, 6))\n",
    "plt.bar(range(len(importances)), importances[indices], align='center')\n",
    "plt.xticks(range(len(importances)),\n",
    "           feature_names[indices], rotation=45, ha='right')\n",
    "plt.title(\"Feature Importances (Random Forest)\")\n",
    "plt.tight_layout()\n",
    "plt.show()\n",
    "\n"
   ]
  },
  {
   "cell_type": "code",
   "execution_count": 15,
   "id": "4d280695",
   "metadata": {},
   "outputs": [],
   "source": [
    "import os\n",
    "\n",
    "# Create 'model' directory if it doesn't exist\n",
    "os.makedirs(\"model\", exist_ok=True)"
   ]
  },
  {
   "cell_type": "code",
   "execution_count": 16,
   "id": "5d998e5e",
   "metadata": {},
   "outputs": [
    {
     "data": {
      "text/plain": [
       "['model/feature_columns.pkl']"
      ]
     },
     "execution_count": 16,
     "metadata": {},
     "output_type": "execute_result"
    }
   ],
   "source": [
    "import joblib\n",
    "\n",
    "# Save model and feature columns\n",
    "joblib.dump(rf_model, \"model/random_forest_goals_model.pkl\")\n",
    "joblib.dump(X_encoded.columns.tolist(), \"model/feature_columns.pkl\")"
   ]
  }
 ],
 "metadata": {
  "kernelspec": {
   "display_name": "venv (3.13.1)",
   "language": "python",
   "name": "python3"
  },
  "language_info": {
   "codemirror_mode": {
    "name": "ipython",
    "version": 3
   },
   "file_extension": ".py",
   "mimetype": "text/x-python",
   "name": "python",
   "nbconvert_exporter": "python",
   "pygments_lexer": "ipython3",
   "version": "3.13.1"
  }
 },
 "nbformat": 4,
 "nbformat_minor": 5
}
