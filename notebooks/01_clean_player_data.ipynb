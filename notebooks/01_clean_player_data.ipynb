{
 "cells": [
  {
   "cell_type": "code",
   "execution_count": 3,
   "id": "99cc8bbc",
   "metadata": {},
   "outputs": [
    {
     "name": "stdout",
     "output_type": "stream",
     "text": [
      "Shape after drop: (570, 47)\n",
      "Remaining columns (first 20): ['full_name', 'age', 'birthday', 'birthday_GMT', 'league', 'season', 'position', 'Current Club', 'minutes_played_overall', 'minutes_played_home', 'minutes_played_away', 'nationality', 'appearances_overall', 'appearances_home', 'appearances_away', 'goals_overall', 'goals_home', 'goals_away', 'assists_overall', 'assists_home']\n"
     ]
    }
   ],
   "source": [
    "import pandas as pd\n",
    "\n",
    "# Load data\n",
    "df = pd.read_csv(\"raw_player.csv\")\n",
    "\n",
    "# Drop columns where all values are missing\n",
    "df_clean = df.dropna(axis=1, how='all')\n",
    "\n",
    "# Save intermediate version\n",
    "df_clean.to_csv(\"player_clean_step1.csv\", index=False)\n",
    "\n",
    "# Show shape and columns after drop\n",
    "print(\"Shape after drop:\", df_clean.shape)\n",
    "print(\"Remaining columns (first 20):\", df_clean.columns[:20].tolist())"
   ]
  },
  {
   "cell_type": "code",
   "execution_count": 5,
   "id": "6e7a7298",
   "metadata": {},
   "outputs": [],
   "source": [
    "# Rename all columns to lowercase snake_case\n",
    "df_clean.columns = (\n",
    "    df_clean.columns.str.strip()\n",
    "    .str.lower()\n",
    "    .str.replace(\" \", \"_\")\n",
    "    .str.replace(\"-\", \"_\")\n",
    ")"
   ]
  },
  {
   "cell_type": "code",
   "execution_count": 6,
   "id": "a985d56a",
   "metadata": {},
   "outputs": [
    {
     "name": "stdout",
     "output_type": "stream",
     "text": [
      "['full_name', 'age', 'birthday', 'birthday_gmt', 'league', 'season', 'position', 'current_club', 'minutes_played_overall', 'minutes_played_home']\n"
     ]
    }
   ],
   "source": [
    "print(df_clean.columns[:10].tolist())"
   ]
  },
  {
   "cell_type": "code",
   "execution_count": 7,
   "id": "ca614e0f",
   "metadata": {},
   "outputs": [
    {
     "name": "stdout",
     "output_type": "stream",
     "text": [
      "                       birthday  birth_year\n",
      "0 1970-01-01 00:00:00.629712000        1970\n",
      "1 1970-01-01 00:00:00.545554800        1970\n",
      "2 1970-01-01 00:00:00.653382000        1970\n",
      "3 1970-01-01 00:00:00.662198400        1970\n",
      "4 1970-01-01 00:00:00.968310000        1970\n"
     ]
    },
    {
     "name": "stderr",
     "output_type": "stream",
     "text": [
      "C:\\Users\\solly\\AppData\\Local\\Temp\\ipykernel_732\\1542023673.py:2: SettingWithCopyWarning: \n",
      "A value is trying to be set on a copy of a slice from a DataFrame.\n",
      "Try using .loc[row_indexer,col_indexer] = value instead\n",
      "\n",
      "See the caveats in the documentation: https://pandas.pydata.org/pandas-docs/stable/user_guide/indexing.html#returning-a-view-versus-a-copy\n",
      "  df_clean['birthday'] = pd.to_datetime(df_clean['birthday'], errors='coerce')\n",
      "C:\\Users\\solly\\AppData\\Local\\Temp\\ipykernel_732\\1542023673.py:5: SettingWithCopyWarning: \n",
      "A value is trying to be set on a copy of a slice from a DataFrame.\n",
      "Try using .loc[row_indexer,col_indexer] = value instead\n",
      "\n",
      "See the caveats in the documentation: https://pandas.pydata.org/pandas-docs/stable/user_guide/indexing.html#returning-a-view-versus-a-copy\n",
      "  df_clean['birth_year'] = df_clean['birthday'].dt.year\n"
     ]
    }
   ],
   "source": [
    "# Convert 'birthday' to datetime format\n",
    "df_clean['birthday'] = pd.to_datetime(df_clean['birthday'], errors='coerce')\n",
    "\n",
    "# Extract year (optional but useful for age checks)\n",
    "df_clean['birth_year'] = df_clean['birthday'].dt.year\n",
    "\n",
    "# Preview\n",
    "print(df_clean[['birthday', 'birth_year']].head())"
   ]
  },
  {
   "cell_type": "code",
   "execution_count": 8,
   "id": "071589ab",
   "metadata": {},
   "outputs": [
    {
     "name": "stdout",
     "output_type": "stream",
     "text": [
      "Missing values:\n",
      " Series([], dtype: int64)\n"
     ]
    }
   ],
   "source": [
    "# Show top 15 columns with missing values\n",
    "missing = df_clean.isnull().sum()\n",
    "missing = missing[missing > 0].sort_values(ascending=False)\n",
    "print(\"Missing values:\\n\", missing.head(15))"
   ]
  },
  {
   "cell_type": "code",
   "execution_count": 9,
   "id": "6c0478cd",
   "metadata": {},
   "outputs": [
    {
     "name": "stdout",
     "output_type": "stream",
     "text": [
      "✅ Cleaned dataset saved as 'player_clean.csv'\n"
     ]
    }
   ],
   "source": [
    "# Save final cleaned version\n",
    "df_clean.to_csv(\"player_clean.csv\", index=False)\n",
    "\n",
    "print(\"✅ Cleaned dataset saved as 'player_clean.csv'\")"
   ]
  }
 ],
 "metadata": {
  "kernelspec": {
   "display_name": "Python 3",
   "language": "python",
   "name": "python3"
  },
  "language_info": {
   "codemirror_mode": {
    "name": "ipython",
    "version": 3
   },
   "file_extension": ".py",
   "mimetype": "text/x-python",
   "name": "python",
   "nbconvert_exporter": "python",
   "pygments_lexer": "ipython3",
   "version": "3.13.1"
  }
 },
 "nbformat": 4,
 "nbformat_minor": 5
}
