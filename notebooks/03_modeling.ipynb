{
 "cells": [
  {
   "cell_type": "code",
   "execution_count": 4,
   "id": "8d80a27a",
   "metadata": {},
   "outputs": [
    {
     "data": {
      "text/plain": [
       "((570, 48),\n",
       " Index(['full_name', 'age', 'birthday', 'birthday_gmt', 'league', 'season',\n",
       "        'position', 'current_club', 'minutes_played_overall',\n",
       "        'minutes_played_home', 'minutes_played_away', 'nationality',\n",
       "        'appearances_overall', 'appearances_home', 'appearances_away',\n",
       "        'goals_overall', 'goals_home', 'goals_away', 'assists_overall',\n",
       "        'assists_home', 'assists_away', 'penalty_goals', 'penalty_misses',\n",
       "        'clean_sheets_overall', 'clean_sheets_home', 'clean_sheets_away',\n",
       "        'conceded_overall', 'conceded_home', 'conceded_away',\n",
       "        'yellow_cards_overall', 'red_cards_overall',\n",
       "        'goals_involved_per_90_overall', 'assists_per_90_overall',\n",
       "        'goals_per_90_overall', 'goals_per_90_home', 'goals_per_90_away',\n",
       "        'min_per_goal_overall', 'conceded_per_90_overall',\n",
       "        'min_per_conceded_overall', 'min_per_match', 'min_per_card_overall',\n",
       "        'min_per_assist_overall', 'cards_per_90_overall',\n",
       "        'rank_in_league_top_attackers', 'rank_in_league_top_midfielders',\n",
       "        'rank_in_league_top_defenders', 'rank_in_club_top_scorer',\n",
       "        'birth_year'],\n",
       "       dtype='object'))"
      ]
     },
     "execution_count": 4,
     "metadata": {},
     "output_type": "execute_result"
    }
   ],
   "source": [
    "import pandas as pd\n",
    "\n",
    "# Load clean dataset\n",
    "df = pd.read_csv(\"../player_clean.csv\")\n",
    "\n",
    "df.shape, df.columns"
   ]
  },
  {
   "cell_type": "code",
   "execution_count": 5,
   "id": "a2e36d9a",
   "metadata": {},
   "outputs": [
    {
     "data": {
      "text/html": [
       "<div>\n",
       "<style scoped>\n",
       "    .dataframe tbody tr th:only-of-type {\n",
       "        vertical-align: middle;\n",
       "    }\n",
       "\n",
       "    .dataframe tbody tr th {\n",
       "        vertical-align: top;\n",
       "    }\n",
       "\n",
       "    .dataframe thead th {\n",
       "        text-align: right;\n",
       "    }\n",
       "</style>\n",
       "<table border=\"1\" class=\"dataframe\">\n",
       "  <thead>\n",
       "    <tr style=\"text-align: right;\">\n",
       "      <th></th>\n",
       "      <th>age</th>\n",
       "      <th>minutes_played_overall</th>\n",
       "      <th>appearances_overall</th>\n",
       "      <th>assists_overall</th>\n",
       "      <th>position</th>\n",
       "    </tr>\n",
       "  </thead>\n",
       "  <tbody>\n",
       "    <tr>\n",
       "      <th>0</th>\n",
       "      <td>32</td>\n",
       "      <td>1589</td>\n",
       "      <td>20</td>\n",
       "      <td>1</td>\n",
       "      <td>Defender</td>\n",
       "    </tr>\n",
       "    <tr>\n",
       "      <th>1</th>\n",
       "      <td>35</td>\n",
       "      <td>1217</td>\n",
       "      <td>16</td>\n",
       "      <td>1</td>\n",
       "      <td>Midfielder</td>\n",
       "    </tr>\n",
       "    <tr>\n",
       "      <th>2</th>\n",
       "      <td>32</td>\n",
       "      <td>2327</td>\n",
       "      <td>29</td>\n",
       "      <td>1</td>\n",
       "      <td>Midfielder</td>\n",
       "    </tr>\n",
       "    <tr>\n",
       "      <th>3</th>\n",
       "      <td>31</td>\n",
       "      <td>1327</td>\n",
       "      <td>28</td>\n",
       "      <td>6</td>\n",
       "      <td>Midfielder</td>\n",
       "    </tr>\n",
       "    <tr>\n",
       "      <th>4</th>\n",
       "      <td>22</td>\n",
       "      <td>69</td>\n",
       "      <td>2</td>\n",
       "      <td>0</td>\n",
       "      <td>Forward</td>\n",
       "    </tr>\n",
       "  </tbody>\n",
       "</table>\n",
       "</div>"
      ],
      "text/plain": [
       "   age  minutes_played_overall  appearances_overall  assists_overall  \\\n",
       "0   32                    1589                   20                1   \n",
       "1   35                    1217                   16                1   \n",
       "2   32                    2327                   29                1   \n",
       "3   31                    1327                   28                6   \n",
       "4   22                      69                    2                0   \n",
       "\n",
       "     position  \n",
       "0    Defender  \n",
       "1  Midfielder  \n",
       "2  Midfielder  \n",
       "3  Midfielder  \n",
       "4     Forward  "
      ]
     },
     "execution_count": 5,
     "metadata": {},
     "output_type": "execute_result"
    }
   ],
   "source": [
    "X = df[[\"age\", \"minutes_played_overall\",\n",
    "        \"appearances_overall\", \"assists_overall\", \"position\"]]\n",
    "y = df[\"goals_overall\"]\n",
    "\n",
    "X.head()"
   ]
  },
  {
   "cell_type": "code",
   "execution_count": 6,
   "id": "7a768084",
   "metadata": {},
   "outputs": [
    {
     "data": {
      "text/html": [
       "<div>\n",
       "<style scoped>\n",
       "    .dataframe tbody tr th:only-of-type {\n",
       "        vertical-align: middle;\n",
       "    }\n",
       "\n",
       "    .dataframe tbody tr th {\n",
       "        vertical-align: top;\n",
       "    }\n",
       "\n",
       "    .dataframe thead th {\n",
       "        text-align: right;\n",
       "    }\n",
       "</style>\n",
       "<table border=\"1\" class=\"dataframe\">\n",
       "  <thead>\n",
       "    <tr style=\"text-align: right;\">\n",
       "      <th></th>\n",
       "      <th>age</th>\n",
       "      <th>minutes_played_overall</th>\n",
       "      <th>appearances_overall</th>\n",
       "      <th>assists_overall</th>\n",
       "      <th>position_Forward</th>\n",
       "      <th>position_Goalkeeper</th>\n",
       "      <th>position_Midfielder</th>\n",
       "    </tr>\n",
       "  </thead>\n",
       "  <tbody>\n",
       "    <tr>\n",
       "      <th>0</th>\n",
       "      <td>32</td>\n",
       "      <td>1589</td>\n",
       "      <td>20</td>\n",
       "      <td>1</td>\n",
       "      <td>False</td>\n",
       "      <td>False</td>\n",
       "      <td>False</td>\n",
       "    </tr>\n",
       "    <tr>\n",
       "      <th>1</th>\n",
       "      <td>35</td>\n",
       "      <td>1217</td>\n",
       "      <td>16</td>\n",
       "      <td>1</td>\n",
       "      <td>False</td>\n",
       "      <td>False</td>\n",
       "      <td>True</td>\n",
       "    </tr>\n",
       "    <tr>\n",
       "      <th>2</th>\n",
       "      <td>32</td>\n",
       "      <td>2327</td>\n",
       "      <td>29</td>\n",
       "      <td>1</td>\n",
       "      <td>False</td>\n",
       "      <td>False</td>\n",
       "      <td>True</td>\n",
       "    </tr>\n",
       "    <tr>\n",
       "      <th>3</th>\n",
       "      <td>31</td>\n",
       "      <td>1327</td>\n",
       "      <td>28</td>\n",
       "      <td>6</td>\n",
       "      <td>False</td>\n",
       "      <td>False</td>\n",
       "      <td>True</td>\n",
       "    </tr>\n",
       "    <tr>\n",
       "      <th>4</th>\n",
       "      <td>22</td>\n",
       "      <td>69</td>\n",
       "      <td>2</td>\n",
       "      <td>0</td>\n",
       "      <td>True</td>\n",
       "      <td>False</td>\n",
       "      <td>False</td>\n",
       "    </tr>\n",
       "  </tbody>\n",
       "</table>\n",
       "</div>"
      ],
      "text/plain": [
       "   age  minutes_played_overall  appearances_overall  assists_overall  \\\n",
       "0   32                    1589                   20                1   \n",
       "1   35                    1217                   16                1   \n",
       "2   32                    2327                   29                1   \n",
       "3   31                    1327                   28                6   \n",
       "4   22                      69                    2                0   \n",
       "\n",
       "   position_Forward  position_Goalkeeper  position_Midfielder  \n",
       "0             False                False                False  \n",
       "1             False                False                 True  \n",
       "2             False                False                 True  \n",
       "3             False                False                 True  \n",
       "4              True                False                False  "
      ]
     },
     "execution_count": 6,
     "metadata": {},
     "output_type": "execute_result"
    }
   ],
   "source": [
    "X_encoded = pd.get_dummies(X, columns=[\"position\"], drop_first=True)\n",
    "X_encoded.head()"
   ]
  },
  {
   "cell_type": "code",
   "execution_count": 9,
   "id": "aae630d1",
   "metadata": {},
   "outputs": [
    {
     "data": {
      "text/plain": [
       "((456, 7), (114, 7))"
      ]
     },
     "execution_count": 9,
     "metadata": {},
     "output_type": "execute_result"
    }
   ],
   "source": [
    "from sklearn.model_selection import train_test_split\n",
    "\n",
    "X_train, X_test, y_train, y_test = train_test_split(\n",
    "    X_encoded, y, test_size=0.2, random_state=42\n",
    ")\n",
    "\n",
    "X_train.shape, X_test.shape"
   ]
  },
  {
   "cell_type": "code",
   "execution_count": 12,
   "id": "7ad1e68a",
   "metadata": {},
   "outputs": [
    {
     "name": "stdout",
     "output_type": "stream",
     "text": [
      "1.7.1\n"
     ]
    }
   ],
   "source": [
    "import sklearn\n",
    "print(sklearn.__version__)"
   ]
  },
  {
   "cell_type": "code",
   "execution_count": 11,
   "id": "7f0c5130",
   "metadata": {},
   "outputs": [
    {
     "data": {
      "text/plain": [
       "(1.6107876800630436, 2.161198248940162, 0.5510249318461435)"
      ]
     },
     "execution_count": 11,
     "metadata": {},
     "output_type": "execute_result"
    }
   ],
   "source": [
    "from sklearn.linear_model import LinearRegression\n",
    "from sklearn.metrics import mean_absolute_error, mean_squared_error, r2_score\n",
    "\n",
    "# Step 1: Initialize and train the model\n",
    "model = LinearRegression()\n",
    "model.fit(X_train, y_train)\n",
    "\n",
    "# Step 2: Predict on test set\n",
    "y_pred = model.predict(X_test)\n",
    "\n",
    "# Step 3: Evaluate\n",
    "mae = mean_absolute_error(y_test, y_pred)\n",
    "mse = mean_squared_error(y_test, y_pred)\n",
    "rmse = mse ** 0.5\n",
    "r2 = r2_score(y_test, y_pred)\n",
    "\n",
    "mae, rmse, r2"
   ]
  }
 ],
 "metadata": {
  "kernelspec": {
   "display_name": "venv (3.13.1)",
   "language": "python",
   "name": "python3"
  },
  "language_info": {
   "codemirror_mode": {
    "name": "ipython",
    "version": 3
   },
   "file_extension": ".py",
   "mimetype": "text/x-python",
   "name": "python",
   "nbconvert_exporter": "python",
   "pygments_lexer": "ipython3",
   "version": "3.13.1"
  }
 },
 "nbformat": 4,
 "nbformat_minor": 5
}
